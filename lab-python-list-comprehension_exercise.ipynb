{
 "cells": [
  {
   "cell_type": "code",
   "execution_count": 76,
   "id": "ceaa4728-1de8-4a38-af6e-269dbc9eeb3a",
   "metadata": {},
   "outputs": [],
   "source": [
    "products = [\"t-shirt\", \"mug\", \"hat\", \"book\", \"keychain\"]\n",
    "inventory = {}"
   ]
  },
  {
   "cell_type": "code",
   "execution_count": 194,
   "id": "69bbed18-6456-4015-9d82-0b6fa5795af7",
   "metadata": {},
   "outputs": [
    {
     "name": "stdin",
     "output_type": "stream",
     "text": [
      "Enter the quantity of t-shirt available:  1\n",
      "Enter the quantity of mug available:  1\n",
      "Enter the quantity of hat available:  1\n",
      "Enter the quantity of book available:  1\n",
      "Enter the quantity of keychain available:  1\n"
     ]
    },
    {
     "data": {
      "text/plain": [
       "{'t-shirt': 1, 'mug': 1, 'hat': 1, 'book': 1, 'keychain': 1}"
      ]
     },
     "execution_count": 194,
     "metadata": {},
     "output_type": "execute_result"
    }
   ],
   "source": [
    "def initialize_inventory(products):\n",
    "    inventory = {product: int(input(f\"Enter the quantity of {product} available: \")) for product in products}\n",
    "    return inventory\n",
    "\n",
    "inventory = initialize_inventory(products)\n",
    "inventory"
   ]
  },
  {
   "cell_type": "code",
   "execution_count": 196,
   "id": "e31c91a7-8723-44ee-9181-3d3ecc7f8e78",
   "metadata": {},
   "outputs": [
    {
     "name": "stdin",
     "output_type": "stream",
     "text": [
      "\n",
      "Enter the name of a product to order:  mug\n",
      "\n",
      "Do you want to add another product? (yes/no):  no\n"
     ]
    }
   ],
   "source": [
    "def get_customer_orders():\n",
    "    customer_orders = set()\n",
    "    another = \"yes\"\n",
    "    \n",
    "    while another == \"yes\" :\n",
    "        order = (input(\"\\nEnter the name of a product to order: \"))\n",
    "        \n",
    "        if order in products:\n",
    "            customer_orders.add(order)\n",
    "    \n",
    "        else:\n",
    "            print(f\"\\n{order} is not in the product list. Please choose from the available products.\")\n",
    "        \n",
    "        another = input(\"\\nDo you want to add another product? (yes/no): \")\n",
    "    \n",
    "    return customer_orders\n",
    "\n",
    "customer_orders = get_customer_orders()"
   ]
  },
  {
   "cell_type": "code",
   "execution_count": null,
   "id": "f679e4a0-58b7-4d99-ad03-9ee77aae50e8",
   "metadata": {},
   "outputs": [],
   "source": [
    "def get_customer_orders():\n",
    "    get_customer_orders = {input(\"\\nEnter the name of a product to order: \") for order in range(int(input(\"Please enter number of orders:\")))}\n",
    "    return get_customer_orders\n",
    "\n",
    "get_customer_orders = get_customer_orders()"
   ]
  },
  {
   "cell_type": "code",
   "execution_count": 114,
   "id": "bfe790f0-4390-4903-a884-5d9146012e19",
   "metadata": {},
   "outputs": [],
   "source": [
    "def update_inventory(customer_orders, inventory):\n",
    "    for item in customer_orders:\n",
    "        if inventory[item] > 0:\n",
    "            inventory[item] -= 1\n",
    "    return inventory"
   ]
  },
  {
   "cell_type": "code",
   "execution_count": 198,
   "id": "5ebcc798-95fc-45d4-a41e-1ec4e9ad04b0",
   "metadata": {},
   "outputs": [],
   "source": [
    "# comprehension version\n",
    "def update_inventory(customer_orders, inventory):\n",
    "    [inventory.update({item: inventory[item] - 1}) for item in customer_orders if inventory[item] > 0]\n",
    "    return inventory"
   ]
  },
  {
   "cell_type": "code",
   "execution_count": 200,
   "id": "821e877c-f356-4aee-9802-1f0a72d4bbf3",
   "metadata": {},
   "outputs": [],
   "source": [
    "def calculate_order_statistics(customer_orders,products):\n",
    "    total_number = len(customer_orders)\n",
    "    total_inventory = sum(inventory.values())\n",
    "    order_status = (total_number / total_inventory * 100)\n",
    "    percentage_ordered = order_status\n",
    "    order_statistics = (total_number,percentage_ordered)\n",
    "    return order_statistics\n",
    "\n",
    "calculate_order_statistics(customer_orders,products)\n",
    "order_statistics = calculate_order_statistics(customer_orders,products)"
   ]
  },
  {
   "cell_type": "code",
   "execution_count": 202,
   "id": "086777e0-3d1e-43d2-b1d9-d16b29800ef5",
   "metadata": {},
   "outputs": [
    {
     "name": "stdout",
     "output_type": "stream",
     "text": [
      "\n",
      "Order Statistics:\n",
      "Total Products Ordered: 1\n",
      "Percentage of Products Ordered: 20.0 %\n"
     ]
    }
   ],
   "source": [
    "def print_order_statistics(order_statistics):\n",
    "    print(\"\\nOrder Statistics:\")\n",
    "    print(f\"Total Products Ordered:\", order_statistics[0])\n",
    "    print(f\"Percentage of Products Ordered:\", order_statistics[1], \"%\")\n",
    "\n",
    "print_order_statistics(order_statistics)"
   ]
  },
  {
   "cell_type": "code",
   "execution_count": 204,
   "id": "4b91beea-6a90-496e-9e8b-b15a9aa2c766",
   "metadata": {},
   "outputs": [
    {
     "name": "stdout",
     "output_type": "stream",
     "text": [
      "\n",
      "Remaining inventory\n",
      "t-shirt: 1\n",
      "mug: 1\n",
      "hat: 1\n",
      "book: 1\n",
      "keychain: 1\n"
     ]
    }
   ],
   "source": [
    "def print_updated_inventory(inventory):\n",
    "    print(\"\\nRemaining inventory\")\n",
    "    for product in products:\n",
    "        print(f\"{product}: {inventory.get(product)}\")\n",
    "    \n",
    "print_updated_inventory(inventory)"
   ]
  },
  {
   "cell_type": "code",
   "execution_count": null,
   "id": "22f23c2d-64e8-4a5d-8023-253d9e6a423a",
   "metadata": {},
   "outputs": [],
   "source": [
    "# comprehension version"
   ]
  },
  {
   "cell_type": "code",
   "execution_count": 180,
   "id": "128f901e-6bdf-4589-8611-c8bf96a80d01",
   "metadata": {},
   "outputs": [
    {
     "name": "stdin",
     "output_type": "stream",
     "text": [
      "Enter the quantity of t-shirt available:  1\n",
      "Enter the quantity of mug available:  1\n",
      "Enter the quantity of hat available:  1\n",
      "Enter the quantity of book available:  1\n",
      "Enter the quantity of keychain available:  1\n",
      "\n",
      "Enter the name of a product to order:  mug\n",
      "\n",
      "Do you want to add another product? (yes/no):  no\n"
     ]
    },
    {
     "name": "stdout",
     "output_type": "stream",
     "text": [
      "\n",
      "Order Statistics:\n",
      "Total Products Ordered: 3\n",
      "Percentage of Products Ordered: 60.0 %\n",
      "\n",
      "Remaining inventory\n",
      "t-shirt: 1\n",
      "mug: 0\n",
      "hat: 0\n",
      "book: 0\n",
      "keychain: 1\n"
     ]
    }
   ],
   "source": [
    "initialize_inventory(products)\n",
    "get_customer_orders()\n",
    "update_inventory(customer_orders, inventory)\n",
    "print_order_statistics(order_statistics)\n",
    "print_updated_inventory(inventory)"
   ]
  },
  {
   "cell_type": "code",
   "execution_count": null,
   "id": "d008b32d-acf1-4bb2-a7e2-22dc5cff5074",
   "metadata": {},
   "outputs": [],
   "source": []
  }
 ],
 "metadata": {
  "kernelspec": {
   "display_name": "Python [conda env:base] *",
   "language": "python",
   "name": "conda-base-py"
  },
  "language_info": {
   "codemirror_mode": {
    "name": "ipython",
    "version": 3
   },
   "file_extension": ".py",
   "mimetype": "text/x-python",
   "name": "python",
   "nbconvert_exporter": "python",
   "pygments_lexer": "ipython3",
   "version": "3.12.7"
  }
 },
 "nbformat": 4,
 "nbformat_minor": 5
}
