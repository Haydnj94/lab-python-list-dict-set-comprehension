{
 "cells": [
  {
   "cell_type": "code",
   "execution_count": 226,
   "id": "751c7a09-c377-4605-ab52-344df1961759",
   "metadata": {},
   "outputs": [
    {
     "name": "stdin",
     "output_type": "stream",
     "text": [
      "Enter the quantity of t-shirt:  1\n",
      "Enter the quantity of mug:  1\n",
      "Enter the quantity of hat:  1\n",
      "Enter the quantity of book:  1\n",
      "Enter the quantity of keychain:  1\n"
     ]
    }
   ],
   "source": [
    "products = [\"t-shirt\", \"mug\", \"hat\", \"book\", \"keychain\"]\n",
    "inventory = {}\n",
    "\n",
    "def initialize_inventory(products):\n",
    "    inventory = {}\n",
    "    for product in products:\n",
    "        quantity = int(input(f\"Enter the quantity of {product}: \"))\n",
    "        inventory[product] = quantity\n",
    "    \n",
    "    return inventory\n",
    "    \n",
    "inventory = initialize_inventory(products)\n"
   ]
  },
  {
   "cell_type": "code",
   "execution_count": 230,
   "id": "e31c91a7-8723-44ee-9181-3d3ecc7f8e78",
   "metadata": {},
   "outputs": [
    {
     "name": "stdin",
     "output_type": "stream",
     "text": [
      "\n",
      "Enter the name of a product to order:  mug\n",
      "\n",
      "Do you want to add another product? (yes/no):  yes\n",
      "\n",
      "Enter the name of a product to order:  hat\n",
      "\n",
      "Do you want to add another product? (yes/no):  no\n"
     ]
    }
   ],
   "source": [
    "def get_customer_orders():\n",
    "    customer_orders = set()\n",
    "    another = \"yes\"\n",
    "    \n",
    "    while another == \"yes\" :\n",
    "        order = (input(\"\\nEnter the name of a product to order: \"))\n",
    "        \n",
    "        if order in products:\n",
    "            customer_orders.add(order)\n",
    "    \n",
    "        else:\n",
    "            print(f\"\\n{order} is not in the product list. Please choose from the available products.\")\n",
    "        \n",
    "        another = input(\"\\nDo you want to add another product? (yes/no): \")\n",
    "    \n",
    "    return customer_orders\n",
    "\n",
    "customer_orders = get_customer_orders()\n"
   ]
  },
  {
   "cell_type": "code",
   "execution_count": 232,
   "id": "78af37c5-f201-407c-adfa-abe2dd4ed8ce",
   "metadata": {},
   "outputs": [],
   "source": [
    "def update_inventory(customer_orders, inventory):\n",
    "    for item in customer_orders:\n",
    "        if inventory[item] > 0:\n",
    "            inventory[item] -= 1\n",
    "    return inventroy\n"
   ]
  },
  {
   "cell_type": "code",
   "execution_count": 234,
   "id": "821e877c-f356-4aee-9802-1f0a72d4bbf3",
   "metadata": {},
   "outputs": [],
   "source": [
    "def calculate_order_statistics(customer_orders,products):\n",
    "    total_number = len(customer_orders)\n",
    "    total_inventory = sum(inventory.values())\n",
    "    order_status = (total_number / total_inventory * 100)\n",
    "    percentage_ordered = order_status\n",
    "    order_statistics = (total_number,percentage_ordered)\n",
    "    return order_statistics\n",
    "\n",
    "calculate_order_statistics(customer_orders,products)\n",
    "order_statistics = calculate_order_statistics(customer_orders,products)"
   ]
  },
  {
   "cell_type": "code",
   "execution_count": 236,
   "id": "086777e0-3d1e-43d2-b1d9-d16b29800ef5",
   "metadata": {},
   "outputs": [
    {
     "name": "stdout",
     "output_type": "stream",
     "text": [
      "\n",
      "Order Statistics:\n",
      "Total Products Ordered: 2\n",
      "Percentage of Products Ordered: 40.0 %\n"
     ]
    }
   ],
   "source": [
    "def print_order_statistics(order_statistics):\n",
    "    print(\"\\nOrder Statistics:\")\n",
    "    print(f\"Total Products Ordered:\", order_statistics[0])\n",
    "    print(f\"Percentage of Products Ordered:\", order_statistics[1], \"%\")\n",
    "\n",
    "print_order_statistics(order_statistics)"
   ]
  },
  {
   "cell_type": "code",
   "execution_count": 238,
   "id": "4b91beea-6a90-496e-9e8b-b15a9aa2c766",
   "metadata": {},
   "outputs": [
    {
     "name": "stdout",
     "output_type": "stream",
     "text": [
      "\n",
      "Remaining inventory\n",
      "t-shirt: 1\n",
      "mug: 1\n",
      "hat: 1\n",
      "book: 1\n",
      "keychain: 1\n"
     ]
    }
   ],
   "source": [
    "def print_updated_inventory(inventroy):\n",
    "    print(\"\\nRemaining inventory\")\n",
    "    for product in products:\n",
    "        print(f\"{product}: {inventory.get(product)}\")\n",
    "    \n",
    "print_updated_inventory(inventroy)\n"
   ]
  },
  {
   "cell_type": "code",
   "execution_count": 240,
   "id": "128f901e-6bdf-4589-8611-c8bf96a80d01",
   "metadata": {},
   "outputs": [
    {
     "name": "stdin",
     "output_type": "stream",
     "text": [
      "Enter the quantity of t-shirt:  1\n",
      "Enter the quantity of mug:  1\n",
      "Enter the quantity of hat:  1\n",
      "Enter the quantity of book:  1\n",
      "Enter the quantity of keychain:  1\n",
      "\n",
      "Enter the name of a product to order:  mug\n",
      "\n",
      "Do you want to add another product? (yes/no):  yes\n",
      "\n",
      "Enter the name of a product to order:  hat\n",
      "\n",
      "Do you want to add another product? (yes/no):  no\n"
     ]
    },
    {
     "name": "stdout",
     "output_type": "stream",
     "text": [
      "\n",
      "Order Statistics:\n",
      "Total Products Ordered: 2\n",
      "Percentage of Products Ordered: 40.0 %\n",
      "\n",
      "Remaining inventory\n",
      "t-shirt: 1\n",
      "mug: 0\n",
      "hat: 0\n",
      "book: 1\n",
      "keychain: 1\n"
     ]
    }
   ],
   "source": [
    "initialize_inventory(products)\n",
    "get_customer_orders()\n",
    "update_inventory(customer_orders, inventory)\n",
    "print_order_statistics(order_statistics)\n",
    "print_updated_inventory(inventroy)"
   ]
  },
  {
   "cell_type": "code",
   "execution_count": null,
   "id": "1eb29487-2786-4fb7-b147-791da3ab6748",
   "metadata": {},
   "outputs": [],
   "source": []
  }
 ],
 "metadata": {
  "kernelspec": {
   "display_name": "Python [conda env:base] *",
   "language": "python",
   "name": "conda-base-py"
  },
  "language_info": {
   "codemirror_mode": {
    "name": "ipython",
    "version": 3
   },
   "file_extension": ".py",
   "mimetype": "text/x-python",
   "name": "python",
   "nbconvert_exporter": "python",
   "pygments_lexer": "ipython3",
   "version": "3.12.7"
  }
 },
 "nbformat": 4,
 "nbformat_minor": 5
}
